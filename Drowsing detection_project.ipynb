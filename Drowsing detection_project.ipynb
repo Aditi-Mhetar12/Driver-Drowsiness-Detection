{
 "cells": [
  {
   "cell_type": "code",
   "execution_count": 6,
   "id": "560baf4f-a77b-461d-b8b8-6c3ae4967c5c",
   "metadata": {},
   "outputs": [],
   "source": [
    "import cv2\n",
    "import numpy as np\n",
    "import mediapipe as mp\n",
    "from playsound import playsound\n",
    "import threading\n",
    "from collections import deque\n"
   ]
  },
  {
   "cell_type": "code",
   "execution_count": 7,
   "id": "215011ec-0dd7-43df-baf9-b121bd4308bc",
   "metadata": {},
   "outputs": [],
   "source": [
    "RIGHT_EYE = [33, 160, 158, 133, 153, 144, 155]\n",
    "LEFT_EYE  = [362, 385, 387, 263, 373, 380, 374]\n",
    "\n",
    "def eye_aspect_ratio(landmarks, eye_indices):\n",
    "    p1 = np.array([landmarks[eye_indices[0]].x, landmarks[eye_indices[0]].y])\n",
    "    p2 = np.array([landmarks[eye_indices[1]].x, landmarks[eye_indices[1]].y])\n",
    "    p3 = np.array([landmarks[eye_indices[2]].x, landmarks[eye_indices[2]].y])\n",
    "    p4 = np.array([landmarks[eye_indices[3]].x, landmarks[eye_indices[3]].y])\n",
    "    p5 = np.array([landmarks[eye_indices[4]].x, landmarks[eye_indices[4]].y])\n",
    "    p6 = np.array([landmarks[eye_indices[5]].x, landmarks[eye_indices[5]].y])\n",
    "\n",
    "    vertical1 = np.linalg.norm(p2 - p6)\n",
    "    vertical2 = np.linalg.norm(p3 - p5)\n",
    "    horizontal = np.linalg.norm(p1 - p4)\n",
    "\n",
    "    ear = (vertical1 + vertical2) / (2.0 * horizontal)\n",
    "    return ear"
   ]
  },
  {
   "cell_type": "code",
   "execution_count": 8,
   "id": "43ffe4a6-3a37-47b9-bab5-e5b501ab7568",
   "metadata": {},
   "outputs": [],
   "source": [
    "def sound_alarm():\n",
    "    playsound(\"alarm.wav\")\n",
    "\n",
    "def start_alarm():\n",
    "    t = threading.Thread(target=sound_alarm, daemon=True)\n",
    "    t.start()\n"
   ]
  },
  {
   "cell_type": "code",
   "execution_count": 9,
   "id": "d665ec4b-03a9-4aa8-b83f-d03d3f62b3a9",
   "metadata": {},
   "outputs": [],
   "source": [
    "EAR_THRESH = 0.25\n",
    "CONSEC_FRAMES = 20\n",
    "counter = 0\n",
    "alarm_on = False\n",
    "buffer = deque(maxlen=CONSEC_FRAMES)\n",
    "\n",
    "mp_face_mesh = mp.solutions.face_mesh\n",
    "face_mesh = mp_face_mesh.FaceMesh(\n",
    "    static_image_mode=False,\n",
    "    max_num_faces=1,\n",
    "    refine_landmarks=True,\n",
    "    min_detection_confidence=0.5,\n",
    "    min_tracking_confidence=0.5\n",
    ")\n",
    "\n",
    "cap = cv2.VideoCapture(0)\n",
    "\n",
    "while True:\n",
    "    ret, frame = cap.read()\n",
    "    if not ret:\n",
    "        break\n",
    "\n",
    "    frame = cv2.flip(frame, 1)\n",
    "    rgb_frame = cv2.cvtColor(frame, cv2.COLOR_BGR2RGB)\n",
    "    results = face_mesh.process(rgb_frame)\n",
    "\n",
    "    if results.multi_face_landmarks:\n",
    "        landmarks = results.multi_face_landmarks[0].landmark\n",
    "        right_ear = eye_aspect_ratio(landmarks, RIGHT_EYE)\n",
    "        left_ear = eye_aspect_ratio(landmarks, LEFT_EYE)\n",
    "        avg_ear = (right_ear + left_ear) / 2.0\n",
    "\n",
    "        cv2.putText(frame, f\"EAR: {avg_ear:.2f}\", (30, 30),\n",
    "                    cv2.FONT_HERSHEY_SIMPLEX, 0.7,\n",
    "                    (0, 255, 0) if avg_ear > EAR_THRESH else (0, 0, 255), 2)\n",
    "\n",
    "        if avg_ear < EAR_THRESH:\n",
    "            buffer.append(1)\n",
    "        else:\n",
    "            buffer.append(0)\n",
    "\n",
    "        if sum(buffer) == CONSEC_FRAMES and not alarm_on:\n",
    "            alarm_on = True\n",
    "            start_alarm()\n",
    "\n",
    "        if alarm_on and sum(buffer) < CONSEC_FRAMES // 2:\n",
    "            alarm_on = False\n",
    "\n",
    "        if alarm_on:\n",
    "            cv2.putText(frame, \"DROWSINESS DETECTED!\", (150, 80),\n",
    "                        cv2.FONT_HERSHEY_SIMPLEX, 1.2, (0, 0, 255), 3)\n",
    "\n",
    "    cv2.imshow(\"Driver Drowsiness Detection\", frame)\n",
    "    if cv2.waitKey(1) & 0xFF == 27:  # ESC to stop\n",
    "        break\n",
    "\n",
    "cap.release()\n",
    "cv2.destroyAllWindows()\n"
   ]
  },
  {
   "cell_type": "code",
   "execution_count": null,
   "id": "31e5338b-19c7-49ce-8508-202aa0ebc279",
   "metadata": {},
   "outputs": [],
   "source": []
  },
  {
   "cell_type": "code",
   "execution_count": null,
   "id": "27c87d39-623d-4373-b641-96fb75feedbc",
   "metadata": {},
   "outputs": [],
   "source": []
  }
 ],
 "metadata": {
  "kernelspec": {
   "display_name": "Python 3 (ipykernel)",
   "language": "python",
   "name": "python3"
  },
  "language_info": {
   "codemirror_mode": {
    "name": "ipython",
    "version": 3
   },
   "file_extension": ".py",
   "mimetype": "text/x-python",
   "name": "python",
   "nbconvert_exporter": "python",
   "pygments_lexer": "ipython3",
   "version": "3.10.4"
  }
 },
 "nbformat": 4,
 "nbformat_minor": 5
}
